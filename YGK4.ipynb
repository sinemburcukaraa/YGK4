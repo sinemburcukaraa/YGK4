{
 "cells": [
  {
   "cell_type": "markdown",
   "id": "aa7ab12d-1d95-47ce-98af-51d4b5ceb47e",
   "metadata": {},
   "source": [
    "# Question 1"
   ]
  },
  {
   "cell_type": "code",
   "execution_count": 3,
   "id": "ccdae8bb-24ec-4d38-8d9b-eb9b9750599c",
   "metadata": {},
   "outputs": [],
   "source": [
    "list = [\"Python\", True, 9, \"3\", 8.4, \"Hi-Kod\", \"False\", 4.7]"
   ]
  },
  {
   "cell_type": "code",
   "execution_count": 5,
   "id": "ed81ebfe-1808-40a1-90b3-24f71dd2d074",
   "metadata": {},
   "outputs": [
    {
     "name": "stdout",
     "output_type": "stream",
     "text": [
      "3\n"
     ]
    }
   ],
   "source": [
    "value_3 = list[3]\n",
    "print(value_3)"
   ]
  },
  {
   "cell_type": "code",
   "execution_count": 7,
   "id": "a08ed0c3-2c0a-45fd-819a-edec82a08223",
   "metadata": {},
   "outputs": [
    {
     "name": "stdout",
     "output_type": "stream",
     "text": [
      "Hi-Kod\n"
     ]
    }
   ],
   "source": [
    "value_HiKod= list[5]\n",
    "print(value_HiKod)"
   ]
  },
  {
   "cell_type": "code",
   "execution_count": 11,
   "id": "371816b1-ff3b-4ad8-8bdd-4a63606781ed",
   "metadata": {},
   "outputs": [
    {
     "name": "stdout",
     "output_type": "stream",
     "text": [
      "4.7\n"
     ]
    }
   ],
   "source": [
    "value_last = list[7]\n",
    "print(value_last)"
   ]
  },
  {
   "cell_type": "code",
   "execution_count": 13,
   "id": "abf2af46-bc96-4e25-bf0e-5fda482e83fa",
   "metadata": {},
   "outputs": [
    {
     "name": "stdout",
     "output_type": "stream",
     "text": [
      "[9, '3', 8.4, 'Hi-Kod']\n"
     ]
    }
   ],
   "source": [
    "slicing = list[2:6]\n",
    "print(slicing)"
   ]
  },
  {
   "cell_type": "code",
   "execution_count": 15,
   "id": "31aa0949-2a3c-4225-be7d-81c91eb8bcae",
   "metadata": {},
   "outputs": [
    {
     "name": "stdout",
     "output_type": "stream",
     "text": [
      "[8.4, 'Hi-Kod', 'False', 4.7]\n"
     ]
    }
   ],
   "source": [
    "slicing2= list[4:]\n",
    "print(slicing2)"
   ]
  },
  {
   "cell_type": "markdown",
   "id": "e50461ef-1bc1-4505-a315-77ad2ee2b643",
   "metadata": {},
   "source": [
    "# Question 2"
   ]
  },
  {
   "cell_type": "code",
   "execution_count": 27,
   "id": "2efe7f27-fc64-4b54-a789-69db8bad55b8",
   "metadata": {},
   "outputs": [
    {
     "name": "stdout",
     "output_type": "stream",
     "text": [
      "['Python', '3', 'Hi-Kod', 'False']\n"
     ]
    }
   ],
   "source": [
    "newList = [eleman for eleman in list if isinstance(eleman, str)]\n",
    "print(newList)"
   ]
  },
  {
   "cell_type": "markdown",
   "id": "b0d1ea58-d811-48fd-9d90-c4d5f7edd281",
   "metadata": {},
   "source": [
    "# Quesiton 3"
   ]
  },
  {
   "cell_type": "code",
   "execution_count": 33,
   "id": "5907c5c4-24a6-4b48-8bf5-e90c126f0ad8",
   "metadata": {},
   "outputs": [
    {
     "name": "stdout",
     "output_type": "stream",
     "text": [
      "0. indexte bulunan meyve: elma\n",
      "1. indexte bulunan meyve: armut\n",
      "2. indexte bulunan meyve: çilek\n",
      "3. indexte bulunan meyve: muz\n"
     ]
    }
   ],
   "source": [
    "meyveler = [\"elma\", \"armut\", \"çilek\", \"muz\"]\n",
    "\n",
    "for index, meyve in enumerate(meyveler):\n",
    "    print(\"{}. indexte bulunan meyve: {}\".format(index, meyve))"
   ]
  },
  {
   "cell_type": "code",
   "execution_count": null,
   "id": "e21fef51-4538-406e-b5bb-cbf7d02131bf",
   "metadata": {},
   "outputs": [],
   "source": []
  }
 ],
 "metadata": {
  "kernelspec": {
   "display_name": "Python 3 (ipykernel)",
   "language": "python",
   "name": "python3"
  },
  "language_info": {
   "codemirror_mode": {
    "name": "ipython",
    "version": 3
   },
   "file_extension": ".py",
   "mimetype": "text/x-python",
   "name": "python",
   "nbconvert_exporter": "python",
   "pygments_lexer": "ipython3",
   "version": "3.12.4"
  }
 },
 "nbformat": 4,
 "nbformat_minor": 5
}
